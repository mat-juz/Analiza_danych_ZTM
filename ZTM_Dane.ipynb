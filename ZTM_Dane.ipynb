{
 "cells": [
  {
   "cell_type": "code",
   "execution_count": 1,
   "id": "6ff88f58",
   "metadata": {},
   "outputs": [],
   "source": [
    "import sys, csv\n",
    "import threading, logging, time\n",
    "import datetime\n",
    "import json\n",
    "import kafka\n",
    "from kafka import KafkaProducer \n",
    "import urllib\n",
    "import requests\n",
    "import json\n",
    "import ast\n",
    "import pandas as pd"
   ]
  },
  {
   "cell_type": "markdown",
   "id": "6c9176de",
   "metadata": {},
   "source": [
    "### Kod do wysylania danych do serwera AWS"
   ]
  },
  {
   "cell_type": "code",
   "execution_count": null,
   "id": "65aafe81",
   "metadata": {},
   "outputs": [],
   "source": [
    "producer = KafkaProducer(bootstrap_servers=['ec2-3-73-51-46.eu-central-1.compute.amazonaws.com'])\n",
    "api = \"https://api.um.warszawa.pl/api/action/busestrams_get/?resource_id=f2e5503e-927d-4ad3-9500-4ab9e55deb59&apikey=c5f14341-39d5-445a-b11b-1c41288cc8a1&type=1&line=221\"\n",
    "data = [1,2]\n",
    "for d in data: \n",
    "    \n",
    "    while d > 0:\n",
    "        response = requests.get(api)\n",
    "        data = response.json()\n",
    "        df = pd.DataFrame.from_dict(data['result'])\n",
    "        for row in df.itertuples(index=False):\n",
    "            producer.send('BUS__221',json.dumps(row).encode('utf-8')).get(timeout=30)\n",
    "        time.sleep(12)"
   ]
  },
  {
   "cell_type": "markdown",
   "id": "d67f2ae9",
   "metadata": {},
   "source": [
    "### Pobranie oraz przygotowanie danych statycznych dot. przystankow"
   ]
  },
  {
   "cell_type": "markdown",
   "id": "f1dc75b9",
   "metadata": {},
   "source": [
    "#### Zapisanie danych z API w formacie .json do DataFrame"
   ]
  },
  {
   "cell_type": "code",
   "execution_count": null,
   "id": "17064943",
   "metadata": {},
   "outputs": [],
   "source": [
    "response_2 = requests.get(\"https://api.um.warszawa.pl/api/action/dbstore_get/?id=1c08a38c-ae09-46d2-8926-4f9d25cb0630&apikey=c5f14341-39d5-445a-b11b-1c41288cc8a1\")\n",
    "read_content = response_2.json()\n",
    "i=0\n",
    "df_stops = pd.DataFrame(columns=\n",
    "                        ['Zespol','Slupek','Nazwa_zespolu','ID_ULICY'\n",
    "                         ,'SZER_GEO','DLUG_GEO','KIERUNEK','OBOWIAZUJACE_OD'])\n",
    "result = read_content['result']\n",
    "for values in result:\n",
    "    data_values = values['values']\n",
    "    list= []\n",
    "    for data_fin in data_values:\n",
    "        list.append(data_fin['value'])\n",
    "    print(list)\n",
    "    df_stops.loc[i]=list\n",
    "    i += 1\n",
    "    print(i)"
   ]
  },
  {
   "cell_type": "markdown",
   "id": "19be0129",
   "metadata": {},
   "source": [
    "#### Zapisanie do pliku csv"
   ]
  },
  {
   "cell_type": "code",
   "execution_count": null,
   "id": "44a107e3",
   "metadata": {},
   "outputs": [],
   "source": [
    "f_stops.to_csv('/Users/mateuszjuzyszyn/Desktop/PRACA DYPLOMOWA/stops.csv',encoding='utf-8')"
   ]
  },
  {
   "cell_type": "markdown",
   "id": "a9aced18",
   "metadata": {},
   "source": [
    "### \n",
    "### \n",
    "### \n",
    "### \n",
    "### \n",
    "### Pobranie oraz przygotowanie danych dot. rozkladu jazdy linii 221"
   ]
  },
  {
   "cell_type": "markdown",
   "id": "603a872d",
   "metadata": {},
   "source": [
    "#### Ograniczenie do przystankow danej linii"
   ]
  },
  {
   "cell_type": "code",
   "execution_count": null,
   "id": "e6b15833",
   "metadata": {},
   "outputs": [],
   "source": [
    "list =[\"6039\",\"6089\",\"6090\",\"6197\",\"6198\",\"6212\",\"6215\",\"6221\"]\n",
    "df_stops_221 = df_stops[df_stops.Zespol.isin(list)]"
   ]
  },
  {
   "cell_type": "markdown",
   "id": "049e4d8a",
   "metadata": {},
   "source": [
    "#### Zapisanie do pliku CSV"
   ]
  },
  {
   "cell_type": "code",
   "execution_count": null,
   "id": "c13a7cae",
   "metadata": {},
   "outputs": [],
   "source": [
    "points_221 = pd.DataFrame([df_stops_221.SZER_GEO,df_stops_221.DLUG_GEO\n",
    "                           ,df_stops_221.Zespol,df_stops_221.Slupek\n",
    "                           ,df_stops_221.Nazwa_zespolu, df_stops_221.KIERUNEK]).transpose()\n",
    "points_221.to_csv('/Users/mateuszjuzyszyn/Desktop/PRACA_DYPLOMOWA/point_221.csv',encoding='utf-8', header = True)"
   ]
  },
  {
   "cell_type": "markdown",
   "id": "fbe65e75",
   "metadata": {},
   "source": [
    "#### Pętla do zebrania danch odnośnie rozkładu jazdy na wszystkich przystankach"
   ]
  },
  {
   "cell_type": "code",
   "execution_count": null,
   "id": "c5ac366e",
   "metadata": {},
   "outputs": [],
   "source": [
    "df_timetable221 = pd.DataFrame(columns=['Line','zespol','Slupek','Symbol_2'\n",
    "                                        ,'Symbol_1','Brygada','kierunek','trasa','czas'])\n",
    "for stopID, stopNr in zip(df_stops_221.Zespol, df_stops_221.Slupek):\n",
    "    busstopNr = stopNr\n",
    "    busstopId = stopID\n",
    "    line = '221'\n",
    "    apikey = 'c5f14341-39d5-445a-b11b-1c41288cc8a1'\n",
    "    api = 'https://api.um.warszawa.pl/api/action/dbtimetable_get/?id=e923fa0e-d96c-43f9-ae6e-60518c9f3238&busstopId={}&busstopNr={}&line={}&apikey={}'\n",
    "    api_fin = api.format(busstopId,busstopNr,line,apikey)\n",
    "    response_221 = requests.get(api_fin)\n",
    "    read_content = response_221.json()\n",
    "    i=0 + len(df_timetable221.index)\n",
    "    result = read_content['result']\n",
    "    for values in result:\n",
    "        data_values = values['values']\n",
    "        list= [line,busstopId,busstopNr]\n",
    "        for data_fin in data_values:\n",
    "            list.append(data_fin['value'])\n",
    "        print(list)\n",
    "        df_timetable221.loc[i]=list\n",
    "        i += 1\n",
    "        print(i)"
   ]
  },
  {
   "cell_type": "markdown",
   "id": "5e241e79",
   "metadata": {},
   "source": [
    "#### Zapisanie do pliku csv"
   ]
  },
  {
   "cell_type": "code",
   "execution_count": null,
   "id": "ac11142c",
   "metadata": {},
   "outputs": [],
   "source": [
    "df_timetable221.to_csv('/Users/mateuszjuzyszyn/Desktop/PRACA_DYPLOMOWA/timetable_221.csv',encoding='utf-8', header=True)"
   ]
  }
 ],
 "metadata": {
  "kernelspec": {
   "display_name": "Python 3 (ipykernel)",
   "language": "python",
   "name": "python3"
  },
  "language_info": {
   "codemirror_mode": {
    "name": "ipython",
    "version": 3
   },
   "file_extension": ".py",
   "mimetype": "text/x-python",
   "name": "python",
   "nbconvert_exporter": "python",
   "pygments_lexer": "ipython3",
   "version": "3.9.7"
  }
 },
 "nbformat": 4,
 "nbformat_minor": 5
}
